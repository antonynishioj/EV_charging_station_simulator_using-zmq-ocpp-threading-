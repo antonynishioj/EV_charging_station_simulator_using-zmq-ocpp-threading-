{
 "cells": [
  {
   "cell_type": "code",
   "execution_count": 1,
   "id": "df184220-313c-4d22-9b3e-93103f7c422e",
   "metadata": {},
   "outputs": [],
   "source": [
    "import zmq\n",
    "import threading\n",
    "import tkinter as tk\n",
    "from ocpp.v16 import ChargePoint as cp\n",
    "from ocpp.v16 import call_result"
   ]
  },
  {
   "cell_type": "code",
   "execution_count": 2,
   "id": "3da543c8-45e2-4007-b650-f58ad6d9ed7e",
   "metadata": {},
   "outputs": [],
   "source": [
    "class ChargePoint(cp):\n",
    "    async def boot_notification(self, charge_point_vendor, charge_point_model, **kwargs):\n",
    "        print(\"Boot notification received\")\n",
    "        return call_result.BootNotificationPayload(\n",
    "            current_time=\"2024-04-22T12:34:56Z\",\n",
    "            interval=300,\n",
    "            status=\"Accepted\"\n",
    "        )\n",
    "\n",
    "    async def heartbeat(self):\n",
    "        print(\"Heartbeat received\")\n",
    "        return call_result.HeartbeatPayload(\n",
    "            current_time=\"2023-04-22T12:34:56Z\"\n",
    "        )"
   ]
  },
  {
   "cell_type": "code",
   "execution_count": 3,
   "id": "a7acc3ff-70bb-4526-b9dd-dcf3189f5ebd",
   "metadata": {},
   "outputs": [
    {
     "data": {
      "text/plain": [
       "<SocketContext(bind='tcp://*:5557')>"
      ]
     },
     "execution_count": 3,
     "metadata": {},
     "output_type": "execute_result"
    }
   ],
   "source": [
    "context = zmq.Context()\n",
    "socket = context.socket(zmq.REP)\n",
    "socket.bind(\"tcp://*:5557\")"
   ]
  },
  {
   "cell_type": "code",
   "execution_count": 4,
   "id": "0f71c25c-d629-410f-9c0d-e43e74bcd3af",
   "metadata": {},
   "outputs": [],
   "source": [
    "root = tk.Tk()\n",
    "root.title(\"Charging Station\")\n",
    "\n",
    "status_label = tk.Label(root, text=\"Station Status: Idle\")\n",
    "status_label.pack()"
   ]
  },
  {
   "cell_type": "code",
   "execution_count": 5,
   "id": "1bc39d15-e466-4e63-8304-53d1231d4b18",
   "metadata": {},
   "outputs": [],
   "source": [
    "def worker():\n",
    "    while True:\n",
    "        message = socket.recv()\n",
    "        print(f\"Received request: {message}\")\n",
    "\n",
    "        # Process the request and send a response\n",
    "        if message == b\"start_charging\":\n",
    "            response = b\"Charging started\"\n",
    "            status_label.config(text=\"Station Status: Charging\")\n",
    "        elif message == b\"stop_charging\":\n",
    "            response = b\"Charging stopped\"\n",
    "            status_label.config(text=\"Station Status: Idle\")\n",
    "        else:\n",
    "            response = b\"Invalid request\"\n",
    "\n",
    "        socket.send(response)"
   ]
  },
  {
   "cell_type": "code",
   "execution_count": null,
   "id": "9a2cf392-8b3d-4a1b-9244-db49fb7b3fc0",
   "metadata": {},
   "outputs": [
    {
     "name": "stdout",
     "output_type": "stream",
     "text": [
      "Received request: b'start_charging'\n",
      "Received request: b'stop_charging'\n",
      "Received request: b'start_charging'\n",
      "Received request: b'stop_charging'\n"
     ]
    }
   ],
   "source": [
    "def main():\n",
    "    worker_thread = threading.Thread(target=worker)\n",
    "    worker_thread.start()\n",
    "\n",
    "    root.mainloop()\n",
    "\n",
    "if __name__ == \"__main__\":\n",
    "    main()"
   ]
  }
 ],
 "metadata": {
  "kernelspec": {
   "display_name": "Python 3 (ipykernel)",
   "language": "python",
   "name": "python3"
  },
  "language_info": {
   "codemirror_mode": {
    "name": "ipython",
    "version": 3
   },
   "file_extension": ".py",
   "mimetype": "text/x-python",
   "name": "python",
   "nbconvert_exporter": "python",
   "pygments_lexer": "ipython3",
   "version": "3.11.7"
  }
 },
 "nbformat": 4,
 "nbformat_minor": 5
}
